{
 "cells": [
  {
   "cell_type": "markdown",
   "id": "285b6bb0",
   "metadata": {},
   "source": [
    "# 🛒 Sales Data Analysis Using Python"
   ]
  },
  {
   "cell_type": "markdown",
   "id": "b3d84098",
   "metadata": {},
   "source": [
    "## 🔍 Objective\n",
    "Analyze sales data to identify product trends, revenue distribution, and customer behavior."
   ]
  },
  {
   "cell_type": "code",
   "execution_count": null,
   "id": "42232777",
   "metadata": {},
   "outputs": [],
   "source": [
    "import pandas as pd\n",
    "import matplotlib.pyplot as plt\n",
    "import seaborn as sns\n",
    "\n",
    "# Load data\n",
    "df = pd.read_csv(\"sales_data_sample.csv\", parse_dates=[\"Order Date\"])\n",
    "df.head()"
   ]
  },
  {
   "cell_type": "code",
   "execution_count": null,
   "id": "b017b0a3",
   "metadata": {},
   "outputs": [],
   "source": [
    "# Create a 'Month' column\n",
    "df['Month'] = df['Order Date'].dt.to_period('M').astype(str)"
   ]
  },
  {
   "cell_type": "markdown",
   "id": "9814fad9",
   "metadata": {},
   "source": [
    "## 📊 Total Sales by Product"
   ]
  },
  {
   "cell_type": "code",
   "execution_count": null,
   "id": "599a5911",
   "metadata": {},
   "outputs": [],
   "source": [
    "product_sales = df.groupby(\"Product\")[\"Sales\"].sum().sort_values(ascending=False)\n",
    "\n",
    "plt.figure(figsize=(8, 4))\n",
    "sns.barplot(x=product_sales.index, y=product_sales.values, palette=\"Blues_d\")\n",
    "plt.title(\"Total Sales by Product\")\n",
    "plt.ylabel(\"Sales\")\n",
    "plt.xticks(rotation=45)\n",
    "plt.tight_layout()\n",
    "plt.show()"
   ]
  },
  {
   "cell_type": "markdown",
   "id": "ca99302c",
   "metadata": {},
   "source": [
    "## 📈 Monthly Sales Trend"
   ]
  },
  {
   "cell_type": "code",
   "execution_count": null,
   "id": "f6e18ca3",
   "metadata": {},
   "outputs": [],
   "source": [
    "monthly_sales = df.groupby(\"Month\")[\"Sales\"].sum().reset_index()\n",
    "\n",
    "plt.figure(figsize=(8, 4))\n",
    "sns.lineplot(data=monthly_sales, x=\"Month\", y=\"Sales\", marker=\"o\")\n",
    "plt.title(\"Monthly Sales Trend\")\n",
    "plt.ylabel(\"Total Sales\")\n",
    "plt.grid(True)\n",
    "plt.tight_layout()\n",
    "plt.show()"
   ]
  },
  {
   "cell_type": "markdown",
   "id": "da916bd6",
   "metadata": {},
   "source": [
    "## 🌆 Sales by City"
   ]
  },
  {
   "cell_type": "code",
   "execution_count": null,
   "id": "988c55eb",
   "metadata": {},
   "outputs": [],
   "source": [
    "city_sales = df.groupby(\"City\")[\"Sales\"].sum().sort_values(ascending=False)\n",
    "\n",
    "plt.figure(figsize=(6, 4))\n",
    "sns.barplot(x=city_sales.index, y=city_sales.values, palette=\"coolwarm\")\n",
    "plt.title(\"Sales by City\")\n",
    "plt.ylabel(\"Sales\")\n",
    "plt.xticks(rotation=45)\n",
    "plt.tight_layout()\n",
    "plt.show()"
   ]
  },
  {
   "cell_type": "markdown",
   "id": "5d7192c7",
   "metadata": {},
   "source": [
    "## 📦 Sales by Category"
   ]
  },
  {
   "cell_type": "code",
   "execution_count": null,
   "id": "e96da163",
   "metadata": {},
   "outputs": [],
   "source": [
    "category_sales = df.groupby(\"Category\")[\"Sales\"].sum()\n",
    "\n",
    "plt.figure(figsize=(5, 5))\n",
    "plt.pie(category_sales, labels=category_sales.index, autopct=\"%1.1f%%\", colors=sns.color_palette(\"pastel\"))\n",
    "plt.title(\"Sales by Category\")\n",
    "plt.tight_layout()\n",
    "plt.show()"
   ]
  }
 ],
 "metadata": {},
 "nbformat": 4,
 "nbformat_minor": 5
}
